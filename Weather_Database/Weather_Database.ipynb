{
 "cells": [
  {
   "cell_type": "code",
   "execution_count": 2,
   "id": "986f9032",
   "metadata": {},
   "outputs": [],
   "source": [
    "# Import the dependencies.\n",
    "import pandas as pd\n",
    "import matplotlib.pyplot as plt\n",
    "import numpy as np"
   ]
  },
  {
   "cell_type": "code",
   "execution_count": 3,
   "id": "07f46678",
   "metadata": {},
   "outputs": [
    {
     "data": {
      "text/plain": [
       "<zip at 0x7f7f79a6bb40>"
      ]
     },
     "execution_count": 3,
     "metadata": {},
     "output_type": "execute_result"
    }
   ],
   "source": [
    "#1.3 create a set of 2000 random lat and long\n",
    "\n",
    "lats = np.random.uniform(low=-90.000, high=90.000, size=2000)\n",
    "lngs = np.random.uniform(low=-180.000, high=180.000, size=2000)\n",
    "lat_lngs = zip(lats, lngs)\n",
    "lat_lngs"
   ]
  },
  {
   "cell_type": "code",
   "execution_count": 4,
   "id": "e1681105",
   "metadata": {},
   "outputs": [],
   "source": [
    "# Add the latitudes and longitudes to a list.\n",
    "coordinates = list(lat_lngs)"
   ]
  },
  {
   "cell_type": "code",
   "execution_count": 5,
   "id": "e05172af",
   "metadata": {},
   "outputs": [],
   "source": [
    "#1.4 Use the citipy module to determine city based on latitude and longitude.\n",
    "from citipy import citipy"
   ]
  },
  {
   "cell_type": "code",
   "execution_count": 6,
   "id": "ee3126d5",
   "metadata": {},
   "outputs": [
    {
     "data": {
      "text/plain": [
       "747"
      ]
     },
     "execution_count": 6,
     "metadata": {},
     "output_type": "execute_result"
    }
   ],
   "source": [
    "# create cities list\n",
    "cities = []\n",
    "# Identify the nearest city for each latitude and longitude combination.\n",
    "for coordinate in coordinates:\n",
    "    city = citipy.nearest_city(coordinate[0], coordinate[1]).city_name\n",
    "\n",
    "    # If the city is unique, then we will add it to the cities list.\n",
    "    if city not in cities:\n",
    "        cities.append(city)\n",
    "# Print the city count to confirm sufficient count.\n",
    "len(cities)"
   ]
  },
  {
   "cell_type": "code",
   "execution_count": 8,
   "id": "c3e1dd2d",
   "metadata": {},
   "outputs": [],
   "source": [
    "# Import the requests library.\n",
    "import requests\n",
    "\n",
    "# Import the API key.\n",
    "from config import weather_api_key"
   ]
  },
  {
   "cell_type": "code",
   "execution_count": 9,
   "id": "8e64e5a3",
   "metadata": {},
   "outputs": [
    {
     "name": "stdout",
     "output_type": "stream",
     "text": [
      "http://api.openweathermap.org/data/2.5/weather?units=Imperial&APPID=ec815d5e459109c09ec5267933365415\n"
     ]
    }
   ],
   "source": [
    "# Starting URL for Weather Map API Call.\n",
    "url = \"http://api.openweathermap.org/data/2.5/weather?units=Imperial&APPID=\" + weather_api_key\n",
    "print(url)"
   ]
  },
  {
   "cell_type": "code",
   "execution_count": 10,
   "id": "5026b030",
   "metadata": {},
   "outputs": [],
   "source": [
    "# Import the time library and the datetime module from the datetime library \n",
    "import time\n",
    "from datetime import datetime"
   ]
  },
  {
   "cell_type": "code",
   "execution_count": 11,
   "id": "08daaec7",
   "metadata": {
    "scrolled": true
   },
   "outputs": [
    {
     "name": "stdout",
     "output_type": "stream",
     "text": [
      "Beginning Data Retrieval     \n",
      "-----------------------------\n",
      "Processing Record 1 of Set 1 | jamestown\n",
      "City not found. Skipping...\n",
      "Processing Record 2 of Set 1 | punta arenas\n",
      "City not found. Skipping...\n",
      "Processing Record 3 of Set 1 | rikitea\n",
      "City not found. Skipping...\n",
      "Processing Record 4 of Set 1 | arraial do cabo\n",
      "City not found. Skipping...\n",
      "Processing Record 5 of Set 1 | ushuaia\n",
      "City not found. Skipping...\n",
      "Processing Record 6 of Set 1 | tiksi\n",
      "City not found. Skipping...\n",
      "Processing Record 7 of Set 1 | qaanaaq\n",
      "City not found. Skipping...\n",
      "Processing Record 8 of Set 1 | hithadhoo\n",
      "City not found. Skipping...\n",
      "Processing Record 9 of Set 1 | mar del plata\n",
      "City not found. Skipping...\n",
      "Processing Record 10 of Set 1 | caravelas\n",
      "City not found. Skipping...\n",
      "Processing Record 11 of Set 1 | west wendover\n",
      "City not found. Skipping...\n",
      "Processing Record 12 of Set 1 | nanortalik\n",
      "City not found. Skipping...\n",
      "Processing Record 13 of Set 1 | port alfred\n",
      "City not found. Skipping...\n",
      "Processing Record 14 of Set 1 | brownfield\n",
      "City not found. Skipping...\n",
      "Processing Record 15 of Set 1 | dera bugti\n",
      "City not found. Skipping...\n",
      "Processing Record 16 of Set 1 | kangaatsiaq\n",
      "City not found. Skipping...\n",
      "Processing Record 17 of Set 1 | gamba\n",
      "City not found. Skipping...\n",
      "Processing Record 18 of Set 1 | butaritari\n",
      "City not found. Skipping...\n",
      "Processing Record 19 of Set 1 | dikson\n",
      "City not found. Skipping...\n",
      "Processing Record 20 of Set 1 | illoqqortoormiut\n",
      "City not found. Skipping...\n",
      "Processing Record 21 of Set 1 | kamenka\n",
      "City not found. Skipping...\n",
      "Processing Record 22 of Set 1 | narsaq\n",
      "City not found. Skipping...\n",
      "Processing Record 23 of Set 1 | liverpool\n",
      "City not found. Skipping...\n",
      "Processing Record 24 of Set 1 | kodiak\n",
      "City not found. Skipping...\n",
      "Processing Record 25 of Set 1 | otukpo\n",
      "City not found. Skipping...\n",
      "Processing Record 26 of Set 1 | valparaiso\n",
      "City not found. Skipping...\n",
      "Processing Record 27 of Set 1 | ushtobe\n",
      "City not found. Skipping...\n",
      "Processing Record 28 of Set 1 | cape town\n",
      "City not found. Skipping...\n",
      "Processing Record 29 of Set 1 | orangeburg\n",
      "City not found. Skipping...\n",
      "Processing Record 30 of Set 1 | vysokogornyy\n",
      "City not found. Skipping...\n",
      "Processing Record 31 of Set 1 | moultrie\n",
      "City not found. Skipping...\n",
      "Processing Record 32 of Set 1 | tasiilaq\n",
      "City not found. Skipping...\n",
      "Processing Record 33 of Set 1 | mataura\n",
      "City not found. Skipping...\n",
      "Processing Record 34 of Set 1 | mount gambier\n",
      "City not found. Skipping...\n",
      "Processing Record 35 of Set 1 | monte patria\n",
      "City not found. Skipping...\n",
      "Processing Record 36 of Set 1 | galle\n",
      "City not found. Skipping...\n",
      "Processing Record 37 of Set 1 | lagoa\n",
      "City not found. Skipping...\n",
      "Processing Record 38 of Set 1 | san rafael\n",
      "City not found. Skipping...\n",
      "Processing Record 39 of Set 1 | vaitupu\n",
      "City not found. Skipping...\n",
      "Processing Record 40 of Set 1 | lar\n",
      "City not found. Skipping...\n",
      "Processing Record 41 of Set 1 | jonesboro\n",
      "City not found. Skipping...\n",
      "Processing Record 42 of Set 1 | sembakung\n",
      "City not found. Skipping...\n",
      "Processing Record 43 of Set 1 | nioro\n",
      "City not found. Skipping...\n",
      "Processing Record 44 of Set 1 | komsomolskiy\n",
      "City not found. Skipping...\n",
      "Processing Record 45 of Set 1 | port keats\n",
      "City not found. Skipping...\n",
      "Processing Record 46 of Set 1 | mehamn\n",
      "City not found. Skipping...\n",
      "Processing Record 47 of Set 1 | hofn\n",
      "City not found. Skipping...\n",
      "Processing Record 48 of Set 1 | severo-kurilsk\n",
      "City not found. Skipping...\n",
      "Processing Record 49 of Set 1 | champerico\n",
      "City not found. Skipping...\n",
      "Processing Record 50 of Set 1 | hermanus\n",
      "City not found. Skipping...\n"
     ]
    },
    {
     "ename": "KeyboardInterrupt",
     "evalue": "",
     "output_type": "error",
     "traceback": [
      "\u001b[0;31m---------------------------------------------------------------------------\u001b[0m",
      "\u001b[0;31mKeyboardInterrupt\u001b[0m                         Traceback (most recent call last)",
      "\u001b[0;32m/var/folders/pc/gbqjc6c53697k0fb7vf83_n40000gn/T/ipykernel_12747/2668949296.py\u001b[0m in \u001b[0;36m<module>\u001b[0;34m\u001b[0m\n\u001b[1;32m     16\u001b[0m         \u001b[0mset_count\u001b[0m \u001b[0;34m+=\u001b[0m \u001b[0;36m1\u001b[0m\u001b[0;34m\u001b[0m\u001b[0;34m\u001b[0m\u001b[0m\n\u001b[1;32m     17\u001b[0m         \u001b[0mrecord_count\u001b[0m \u001b[0;34m=\u001b[0m \u001b[0;36m1\u001b[0m\u001b[0;34m\u001b[0m\u001b[0;34m\u001b[0m\u001b[0m\n\u001b[0;32m---> 18\u001b[0;31m         \u001b[0mtime\u001b[0m\u001b[0;34m.\u001b[0m\u001b[0msleep\u001b[0m\u001b[0;34m(\u001b[0m\u001b[0;36m60\u001b[0m\u001b[0;34m)\u001b[0m\u001b[0;34m\u001b[0m\u001b[0;34m\u001b[0m\u001b[0m\n\u001b[0m\u001b[1;32m     19\u001b[0m \u001b[0;34m\u001b[0m\u001b[0m\n\u001b[1;32m     20\u001b[0m     \u001b[0;31m# Create endpoint URL with each city.\u001b[0m\u001b[0;34m\u001b[0m\u001b[0;34m\u001b[0m\u001b[0;34m\u001b[0m\u001b[0m\n",
      "\u001b[0;31mKeyboardInterrupt\u001b[0m: "
     ]
    }
   ],
   "source": [
    "# Create an empty list to hold the weather data.\n",
    "city_data = []\n",
    "# Print the beginning of the logging.\n",
    "print(\"Beginning Data Retrieval     \")\n",
    "print(\"-----------------------------\")\n",
    "\n",
    "# Create counters.\n",
    "record_count = 1\n",
    "set_count = 1\n",
    "\n",
    "# Loop through all the cities in the list.\n",
    "for i, city in enumerate(cities):\n",
    "\n",
    "    # Group cities in sets of 50 for logging purposes.\n",
    "    if (i % 50 == 0 and i >= 50):\n",
    "        set_count += 1\n",
    "        record_count = 1\n",
    "        time.sleep(60)\n",
    "\n",
    "    # Create endpoint URL with each city.\n",
    "    city_url = url + \"&q=\" + city.replace(\" \",\"+\")\n",
    "\n",
    "    # Log the URL, record, and set numbers and the city.\n",
    "    print(f\"Processing Record {record_count} of Set {set_count} | {city}\")\n",
    "    # Add 1 to the record count.\n",
    "    record_count += 1\n",
    "    \n",
    "    # Run an API request for each of the cities.\n",
    "    try:\n",
    "        # Parse the JSON and retrieve data.\n",
    "        city_weather = requests.get(city_url).json()\n",
    "        # Parse out the needed data.\n",
    "        city_lat = city_weather[\"coord\"][\"lat\"]\n",
    "        city_lng = city_weather[\"coord\"][\"lon\"]\n",
    "        city_max_temp = city_weather[\"main\"][\"temp_max\"]\n",
    "        city_humidity = city_weather[\"main\"][\"humidity\"]\n",
    "        city_clouds = city_weather[\"clouds\"][\"all\"]\n",
    "        city_wind = city_weather[\"wind\"][\"speed\"]\n",
    "        city_description = city_weather[\"weather\"][\"description\"]\n",
    "        city_country = city_weather[\"sys\"][\"country\"]\n",
    "        # Convert the date to ISO standard.\n",
    "        city_date = datetime.utcfromtimestamp(city_weather[\"dt\"]).strftime('%Y-%m-%d %H:%M:%S')\n",
    "        # Append the city information into city_data list.\n",
    "        city_data.append({\"City\": city.title(),\n",
    "                          \"Lat\": city_lat,\n",
    "                          \"Lng\": city_lng,\n",
    "                          \"Max Temp\": city_max_temp,\n",
    "                          \"Humidity\": city_humidity,\n",
    "                          \"Cloudiness\": city_clouds,\n",
    "                          \"Wind Speed\": city_wind,\n",
    "                          \"Weather Description\": city_description,\n",
    "                          \"Country\": city_country,\n",
    "                          \"Date\": city_date})\n",
    "\n",
    "# If an error is experienced, skip the city.\n",
    "    except:\n",
    "        print(\"City not found. Skipping...\")\n",
    "        pass\n",
    "\n",
    "# Indicate that Data Loading is complete.\n",
    "print(\"-----------------------------\")\n",
    "print(\"Data Retrieval Complete      \")\n",
    "print(\"-----------------------------\")"
   ]
  },
  {
   "cell_type": "code",
   "execution_count": null,
   "id": "4d3c084b",
   "metadata": {},
   "outputs": [],
   "source": []
  }
 ],
 "metadata": {
  "kernelspec": {
   "display_name": "PythonData",
   "language": "python",
   "name": "pythondata"
  },
  "language_info": {
   "codemirror_mode": {
    "name": "ipython",
    "version": 3
   },
   "file_extension": ".py",
   "mimetype": "text/x-python",
   "name": "python",
   "nbconvert_exporter": "python",
   "pygments_lexer": "ipython3",
   "version": "3.7.11"
  }
 },
 "nbformat": 4,
 "nbformat_minor": 5
}
